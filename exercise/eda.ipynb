{
 "cells": [
  {
   "cell_type": "markdown",
   "metadata": {},
   "source": [
    "# Exploratory Data Analysis\n",
    "본 노트에서는 텍스트 데이터를 마주했을 때 해야하는 탐색적 분석 중 하나인 `token_per_sentence`, `total_tokens`를 계산해봅니다. 특히 `token_per_sentence`는 **딥러닝 모형 학습 시 mini-batch 구성을 할 때, padding을 얼마나해야하는 지 확인하는 정보로 활용합니다** "
   ]
  },
  {
   "cell_type": "markdown",
   "metadata": {},
   "source": [
    "### Setup"
   ]
  },
  {
   "cell_type": "code",
   "execution_count": 1,
   "metadata": {},
   "outputs": [],
   "source": [
    "import pandas as pd\n",
    "from pathlib import Path\n",
    "from pprint import pprint\n",
    "from typing import List"
   ]
  },
  {
   "cell_type": "markdown",
   "metadata": {},
   "source": [
    "### Load dataset"
   ]
  },
  {
   "cell_type": "code",
   "execution_count": 2,
   "metadata": {},
   "outputs": [
    {
     "name": "stdout",
     "output_type": "stream",
     "text": [
      "[PosixPath('/root/Documents/archive/strnlp/exercise/data/train.txt'),\n",
      " PosixPath('/root/Documents/archive/strnlp/exercise/data/validation.txt'),\n",
      " PosixPath('/root/Documents/archive/strnlp/exercise/data/test.txt')]\n"
     ]
    }
   ],
   "source": [
    "data_dir = Path.cwd() / 'data'\n",
    "list_of_dataset = list(data_dir.iterdir())\n",
    "pprint(list_of_dataset)"
   ]
  },
  {
   "cell_type": "code",
   "execution_count": 3,
   "metadata": {},
   "outputs": [
    {
     "data": {
      "text/html": [
       "<div>\n",
       "<style scoped>\n",
       "    .dataframe tbody tr th:only-of-type {\n",
       "        vertical-align: middle;\n",
       "    }\n",
       "\n",
       "    .dataframe tbody tr th {\n",
       "        vertical-align: top;\n",
       "    }\n",
       "\n",
       "    .dataframe thead th {\n",
       "        text-align: right;\n",
       "    }\n",
       "</style>\n",
       "<table border=\"1\" class=\"dataframe\">\n",
       "  <thead>\n",
       "    <tr style=\"text-align: right;\">\n",
       "      <th></th>\n",
       "      <th>document</th>\n",
       "      <th>label</th>\n",
       "    </tr>\n",
       "  </thead>\n",
       "  <tbody>\n",
       "    <tr>\n",
       "      <th>0</th>\n",
       "      <td>60년대 각본을 가져다가 만든거 같이 진부하고 춤도 이박사 춤이 더 나을거 같음</td>\n",
       "      <td>0</td>\n",
       "    </tr>\n",
       "    <tr>\n",
       "      <th>1</th>\n",
       "      <td>아 신난다~</td>\n",
       "      <td>0</td>\n",
       "    </tr>\n",
       "    <tr>\n",
       "      <th>2</th>\n",
       "      <td>이게 한쿡영화의 현실..</td>\n",
       "      <td>0</td>\n",
       "    </tr>\n",
       "    <tr>\n",
       "      <th>3</th>\n",
       "      <td>박철수가 만들었다니 ...</td>\n",
       "      <td>0</td>\n",
       "    </tr>\n",
       "    <tr>\n",
       "      <th>4</th>\n",
       "      <td>와 항상 금요일이 기대되네요ㅠ 몬스타 화이팅 !</td>\n",
       "      <td>1</td>\n",
       "    </tr>\n",
       "  </tbody>\n",
       "</table>\n",
       "</div>"
      ],
      "text/plain": [
       "                                       document  label\n",
       "0  60년대 각본을 가져다가 만든거 같이 진부하고 춤도 이박사 춤이 더 나을거 같음      0\n",
       "1                                        아 신난다~      0\n",
       "2                                 이게 한쿡영화의 현실..      0\n",
       "3                                박철수가 만들었다니 ...      0\n",
       "4                    와 항상 금요일이 기대되네요ㅠ 몬스타 화이팅 !      1"
      ]
     },
     "execution_count": 3,
     "metadata": {},
     "output_type": "execute_result"
    }
   ],
   "source": [
    "tr_dataset = pd.read_csv(list_of_dataset[1], sep='\\t')\n",
    "tr_dataset.head()"
   ]
  },
  {
   "cell_type": "markdown",
   "metadata": {},
   "source": [
    "### Define split_fn\n",
    "token의 집합인 Vocaburary 구성을 위해, 문장을 sequence of tokens의 형태로 split하는 function인 `split_fn`을 작성해야합니다. **split_fn을 어떻게 작성하느냐에 따라 문장이 sequence of tokens으로의 변형이 달라지고, Vocaburary도 달라집니다.**"
   ]
  },
  {
   "cell_type": "code",
   "execution_count": 4,
   "metadata": {},
   "outputs": [
    {
     "name": "stdout",
     "output_type": "stream",
     "text": [
      "파이콘은 정말 신나는 행사입니다. ['파이콘은', '정말', '신나는', '행사입니다.']\n"
     ]
    }
   ],
   "source": [
    "# 문장을 어절기준으로 보는 split_fn을 작성\n",
    "def split_eojeol(s: str) -> List[str]:\n",
    "    return s.split(' ')\n",
    "\n",
    "example_sentence = '파이콘은 정말 신나는 행사입니다.'\n",
    "print(example_sentence, split_eojeol(example_sentence))"
   ]
  },
  {
   "cell_type": "markdown",
   "metadata": {},
   "source": [
    "### Calculate `token_per_sentence`, `total_tokens`\n",
    "위에서 정의한 `split_fn`을 이용하여 training corpus의 `token_per_sentence`와 `total_tokens`를 계산해봅니다."
   ]
  },
  {
   "cell_type": "code",
   "execution_count": 5,
   "metadata": {},
   "outputs": [
    {
     "data": {
      "text/plain": [
       "count    29999.000000\n",
       "mean         7.625954\n",
       "std          6.542134\n",
       "min          1.000000\n",
       "25%          3.000000\n",
       "50%          6.000000\n",
       "75%          9.000000\n",
       "max         40.000000\n",
       "Name: document, dtype: float64"
      ]
     },
     "execution_count": 5,
     "metadata": {},
     "output_type": "execute_result"
    }
   ],
   "source": [
    "length_of_sen = tr_dataset['document'].apply(lambda sen: len(split_eojeol(sen)))\n",
    "length_of_sen.describe()"
   ]
  },
  {
   "cell_type": "code",
   "execution_count": 6,
   "metadata": {},
   "outputs": [
    {
     "data": {
      "text/plain": [
       "<matplotlib.axes._subplots.AxesSubplot at 0x7f7f4007cd68>"
      ]
     },
     "execution_count": 6,
     "metadata": {},
     "output_type": "execute_result"
    }
   ],
   "source": [
    "length_of_sen.plot(kind='hist')"
   ]
  },
  {
   "cell_type": "code",
   "execution_count": 7,
   "metadata": {},
   "outputs": [
    {
     "name": "stdout",
     "output_type": "stream",
     "text": [
      "228771 7.625954198473282\n"
     ]
    }
   ],
   "source": [
    "total_tokens = length_of_sen.sum()\n",
    "token_per_sentence = length_of_sen.mean()\n",
    "print(total_tokens, token_per_sentence)"
   ]
  }
 ],
 "metadata": {
  "kernelspec": {
   "display_name": "Python 3",
   "language": "python",
   "name": "python3"
  },
  "language_info": {
   "codemirror_mode": {
    "name": "ipython",
    "version": 3
   },
   "file_extension": ".py",
   "mimetype": "text/x-python",
   "name": "python",
   "nbconvert_exporter": "python",
   "pygments_lexer": "ipython3",
   "version": "3.6.8"
  }
 },
 "nbformat": 4,
 "nbformat_minor": 2
}
