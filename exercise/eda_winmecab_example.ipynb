{
 "cells": [
  {
   "cell_type": "markdown",
   "metadata": {},
   "source": [
    "# eda (exploratory data analysis)\n",
    "본 노트에서는 텍스트 데이터를 마주했을 때 해야하는 탐색적 분석 중 하나인 `token_per_sentence`, `total_tokens`를 계산해봅니다. 특히 `token_per_sentence`는 **딥러닝 모형 학습 시 mini-batch 구성을 할 때, padding을 얼마나해야하는 지 확인하는 정보로 활용합니다** "
   ]
  },
  {
   "cell_type": "markdown",
   "metadata": {},
   "source": [
    "### Setup"
   ]
  },
  {
   "cell_type": "code",
   "execution_count": 1,
   "metadata": {},
   "outputs": [],
   "source": [
    "import pandas as pd\n",
    "from pathlib import Path\n",
    "from pprint import pprint\n",
    "from typing import List\n",
    "%matplotlib inline"
   ]
  },
  {
   "cell_type": "markdown",
   "metadata": {},
   "source": [
    "### Load dataset"
   ]
  },
  {
   "cell_type": "code",
   "execution_count": 2,
   "metadata": {},
   "outputs": [
    {
     "name": "stdout",
     "output_type": "stream",
     "text": [
      "[WindowsPath('D:/codelab/gantest/strnlp1/exercise/data/morphs_vec.pkl'),\n",
      " WindowsPath('D:/codelab/gantest/strnlp1/exercise/data/test.txt'),\n",
      " WindowsPath('D:/codelab/gantest/strnlp1/exercise/data/tokenizer.pkl'),\n",
      " WindowsPath('D:/codelab/gantest/strnlp1/exercise/data/train.txt'),\n",
      " WindowsPath('D:/codelab/gantest/strnlp1/exercise/data/validation.txt'),\n",
      " WindowsPath('D:/codelab/gantest/strnlp1/exercise/data/vocab.pkl')]\n"
     ]
    }
   ],
   "source": [
    "data_dir = Path.cwd() / 'data'\n",
    "list_of_dataset = list(data_dir.iterdir())\n",
    "pprint(list_of_dataset)"
   ]
  },
  {
   "cell_type": "code",
   "execution_count": 3,
   "metadata": {},
   "outputs": [
    {
     "data": {
      "text/html": [
       "<div>\n",
       "<style scoped>\n",
       "    .dataframe tbody tr th:only-of-type {\n",
       "        vertical-align: middle;\n",
       "    }\n",
       "\n",
       "    .dataframe tbody tr th {\n",
       "        vertical-align: top;\n",
       "    }\n",
       "\n",
       "    .dataframe thead th {\n",
       "        text-align: right;\n",
       "    }\n",
       "</style>\n",
       "<table border=\"1\" class=\"dataframe\">\n",
       "  <thead>\n",
       "    <tr style=\"text-align: right;\">\n",
       "      <th></th>\n",
       "      <th>document</th>\n",
       "      <th>label</th>\n",
       "    </tr>\n",
       "  </thead>\n",
       "  <tbody>\n",
       "    <tr>\n",
       "      <th>0</th>\n",
       "      <td>굳 ㅋ</td>\n",
       "      <td>1</td>\n",
       "    </tr>\n",
       "    <tr>\n",
       "      <th>1</th>\n",
       "      <td>GDNTOPCLASSINTHECLUB</td>\n",
       "      <td>0</td>\n",
       "    </tr>\n",
       "    <tr>\n",
       "      <th>2</th>\n",
       "      <td>뭐야 이 평점들은.... 나쁘진 않지만 10점 짜리는 더더욱 아니잖아</td>\n",
       "      <td>0</td>\n",
       "    </tr>\n",
       "    <tr>\n",
       "      <th>3</th>\n",
       "      <td>지루하지는 않은데 완전 막장임... 돈주고 보기에는....</td>\n",
       "      <td>0</td>\n",
       "    </tr>\n",
       "    <tr>\n",
       "      <th>4</th>\n",
       "      <td>3D만 아니었어도 별 다섯 개 줬을텐데.. 왜 3D로 나와서 제 심기를 불편하게 하죠??</td>\n",
       "      <td>0</td>\n",
       "    </tr>\n",
       "  </tbody>\n",
       "</table>\n",
       "</div>"
      ],
      "text/plain": [
       "                                            document  label\n",
       "0                                                굳 ㅋ      1\n",
       "1                               GDNTOPCLASSINTHECLUB      0\n",
       "2             뭐야 이 평점들은.... 나쁘진 않지만 10점 짜리는 더더욱 아니잖아      0\n",
       "3                   지루하지는 않은데 완전 막장임... 돈주고 보기에는....      0\n",
       "4  3D만 아니었어도 별 다섯 개 줬을텐데.. 왜 3D로 나와서 제 심기를 불편하게 하죠??      0"
      ]
     },
     "execution_count": 3,
     "metadata": {},
     "output_type": "execute_result"
    }
   ],
   "source": [
    "tr_dataset = pd.read_csv(list_of_dataset[1], sep='\\t')\n",
    "tr_dataset.head()"
   ]
  },
  {
   "cell_type": "markdown",
   "metadata": {},
   "source": [
    "### Define split_fn\n",
    "token의 집합인 Vocabulary 구성을 위해, 문장을 sequence of tokens의 형태로 split하는 function인 `split_fn`을 작성하거나 기존의 형태소 분석기에서 주어진 함수를 활용해야합니다. **어떤 split_fn을 사용하느냐에 따라 문장의 변형된 결과인 sequence of tokens가 달라집니다. 이에 따라 Vocaburary도 달라집니다.**"
   ]
  },
  {
   "cell_type": "code",
   "execution_count": 4,
   "metadata": {},
   "outputs": [],
   "source": [
    "example_sentence = '파이콘은 정말 신나는 행사입니다.'"
   ]
  },
  {
   "cell_type": "code",
   "execution_count": 5,
   "metadata": {},
   "outputs": [
    {
     "name": "stdout",
     "output_type": "stream",
     "text": [
      "파이콘은 정말 신나는 행사입니다. ['파이콘은', '정말', '신나는', '행사입니다.']\n"
     ]
    }
   ],
   "source": [
    "# 문장을 어절기준으로 보는 split_fn을 작성\n",
    "def split_eojeol(s: str) -> List[str]:\n",
    "    return s.split(' ')\n",
    "\n",
    "print(example_sentence, split_eojeol(example_sentence))"
   ]
  },
  {
   "cell_type": "code",
   "execution_count": 6,
   "metadata": {},
   "outputs": [
    {
     "name": "stdout",
     "output_type": "stream",
     "text": [
      "파이콘은 정말 신나는 행사입니다. ['파이', '콘', '은', '정말', '신나', '는', '행사', '입니다', '.']\n"
     ]
    }
   ],
   "source": [
    "# 문장을 형태소기준으로 split\n",
    "from mecab import MeCab\n",
    "split_morph = MeCab().morphs\n",
    "print(example_sentence, split_morph(example_sentence))"
   ]
  },
  {
   "cell_type": "code",
   "execution_count": 14,
   "metadata": {},
   "outputs": [
    {
     "name": "stdout",
     "output_type": "stream",
     "text": [
      "파이콘은 정말 신나는 행사입니다. ['파이', '콘', '은', '정말', '신나', '는', '행사', '입니다', '.']\n"
     ]
    }
   ],
   "source": [
    "# 문장을 형태소기준으로 split 윈도우일때 하는 방법 추가\n",
    "import MeCab\n",
    "mecab_tagger = MeCab.Tagger()\n",
    "\n",
    "def split_morph(sentence):\n",
    "    return [\n",
    "        node.split('\\t')[0]\n",
    "        for node in mecab_tagger.parse(sentence).split('\\n')\n",
    "    ][:-2]\n",
    "\n",
    "print(example_sentence, split_morph(example_sentence))"
   ]
  },
  {
   "cell_type": "markdown",
   "metadata": {},
   "source": [
    "### Calculate `token_per_sentence`, `total_tokens`\n",
    "위에서 정의한 `MeCab` class의 instance의 멤버함수인 `morphs`를 이용하여 training corpus의 `token_per_sentence`와 `total_tokens`를 계산해봅니다."
   ]
  },
  {
   "cell_type": "code",
   "execution_count": 11,
   "metadata": {},
   "outputs": [
    {
     "data": {
      "text/plain": [
       "count    49997.000000\n",
       "mean        18.417265\n",
       "std         15.425631\n",
       "min          1.000000\n",
       "25%          8.000000\n",
       "50%         14.000000\n",
       "75%         22.000000\n",
       "max        105.000000\n",
       "Name: document, dtype: float64"
      ]
     },
     "execution_count": 11,
     "metadata": {},
     "output_type": "execute_result"
    }
   ],
   "source": [
    "length_of_sen = tr_dataset['document'].apply(lambda sen: len(split_morph(sen)))\n",
    "length_of_sen.describe()"
   ]
  },
  {
   "cell_type": "code",
   "execution_count": 12,
   "metadata": {},
   "outputs": [
    {
     "data": {
      "text/plain": [
       "<matplotlib.axes._subplots.AxesSubplot at 0x27cc21c8e10>"
      ]
     },
     "execution_count": 12,
     "metadata": {},
     "output_type": "execute_result"
    },
    {
     "data": {
      "image/png": "[encoded data removed]",
      "text/plain": [
       "<Figure size 432x288 with 1 Axes>"
      ]
     },
     "metadata": {
      "needs_background": "light"
     },
     "output_type": "display_data"
    }
   ],
   "source": [
    "length_of_sen.plot(kind='hist')"
   ]
  },
  {
   "cell_type": "code",
   "execution_count": 13,
   "metadata": {},
   "outputs": [
    {
     "name": "stdout",
     "output_type": "stream",
     "text": [
      "920808 18.417265035902155\n"
     ]
    }
   ],
   "source": [
    "total_tokens = length_of_sen.sum()\n",
    "token_per_sentence = length_of_sen.mean()\n",
    "print(total_tokens, token_per_sentence)"
   ]
  },
  {
   "cell_type": "code",
   "execution_count": 15,
   "metadata": {},
   "outputs": [],
   "source": [
    "#'pad' -> 길이 맞추기 위해\n",
    "#'unk' -> 모르는 단어"
   ]
  }
 ],
 "metadata": {
  "kernelspec": {
   "display_name": "Python [conda env:strnlp-gpu] *",
   "language": "python",
   "name": "conda-env-strnlp-gpu-py"
  },
  "language_info": {
   "codemirror_mode": {
    "name": "ipython",
    "version": 3
   },
   "file_extension": ".py",
   "mimetype": "text/x-python",
   "name": "python",
   "nbconvert_exporter": "python",
   "pygments_lexer": "ipython3",
   "version": "3.6.9"
  }
 },
 "nbformat": 4,
 "nbformat_minor": 2
}
